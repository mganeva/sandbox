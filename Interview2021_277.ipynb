{
  "nbformat": 4,
  "nbformat_minor": 0,
  "metadata": {
    "colab": {
      "name": "Interview2021-277.ipynb",
      "provenance": []
    },
    "kernelspec": {
      "name": "python3",
      "display_name": "Python 3"
    },
    "language_info": {
      "name": "python"
    }
  },
  "cells": [
    {
      "cell_type": "markdown",
      "metadata": {
        "id": "ZFwbuyvDPjnu"
      },
      "source": [
        "# Interview questions\n",
        "\n",
        "General rule: you are allowed to use any Python modules you want. You may also use internet to search for solution if you don't know it. The only limitation is time. You have 5 minutes per question.\n",
        "\n",
        "Do not hesitate to ask me if the task is unclear to you.\n"
      ]
    },
    {
      "cell_type": "markdown",
      "metadata": {
        "id": "6i2zFtveQGxe"
      },
      "source": [
        "## Task 1\n",
        "Plot $f(x)=x^2 - 1$ for $x\\in [-2, 2]$. "
      ]
    },
    {
      "cell_type": "code",
      "metadata": {
        "id": "y5GOBohgPX2w"
      },
      "source": [
        "# type your solution here "
      ],
      "execution_count": null,
      "outputs": []
    },
    {
      "cell_type": "markdown",
      "metadata": {
        "id": "d4wZUgOUQonW"
      },
      "source": [
        "## Task 2"
      ]
    },
    {
      "cell_type": "markdown",
      "metadata": {
        "id": "Unc8whTiQtLg"
      },
      "source": [
        "1. Create a $5\\times 5$ matrix consisting of random numbers.\n",
        "2. Compute and print trace of this matrix."
      ]
    },
    {
      "cell_type": "code",
      "metadata": {
        "id": "L3kKjobxQsIO"
      },
      "source": [
        ""
      ],
      "execution_count": null,
      "outputs": []
    }
  ]
}